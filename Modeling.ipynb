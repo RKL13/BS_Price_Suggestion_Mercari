{
 "cells": [
  {
   "cell_type": "code",
   "execution_count": 30,
   "id": "39176e6e",
   "metadata": {},
   "outputs": [],
   "source": [
    "from IPython.core.interactiveshell import InteractiveShell\n",
    "from IPython.display import display\n",
    "InteractiveShell.ast_node_interactivity = \"all\"\n",
    "\n",
    "import pandas as pd\n",
    "import numpy as np\n",
    "import matplotlib.pyplot as plt\n",
    "import seaborn as sns\n",
    "import re\n",
    "\n",
    "from sklearn.preprocessing import OneHotEncoder\n",
    "from sklearn.compose import ColumnTransformer, make_column_selector\n",
    "from sklearn.pipeline import Pipeline\n",
    "from sklearn.model_selection import train_test_split, GridSearchCV\n",
    "from sklearn.preprocessing import MinMaxScaler, StandardScaler\n",
    "\n",
    "from sklearn.linear_model import LinearRegression"
   ]
  },
  {
   "cell_type": "code",
   "execution_count": 2,
   "id": "d049f407",
   "metadata": {},
   "outputs": [],
   "source": [
    "df_cl_1 = pd.read_csv(r'/mnt/d/BusinessSuiteData/Mercari/clean_data/df_cl_1_22-09-30.csv')"
   ]
  },
  {
   "cell_type": "code",
   "execution_count": 3,
   "id": "4643b35f",
   "metadata": {},
   "outputs": [],
   "source": [
    "random_seeds = [8,13,21]"
   ]
  },
  {
   "cell_type": "markdown",
   "id": "cc96b532",
   "metadata": {},
   "source": [
    "Feature Selection"
   ]
  },
  {
   "cell_type": "code",
   "execution_count": 4,
   "id": "0c13cfe4",
   "metadata": {},
   "outputs": [],
   "source": [
    "features = \\\n",
    "    ['item_condition_id',\n",
    "     #'brand_name', \n",
    "     'price',\n",
    "     'shipping',\n",
    "     'category_name_0']"
   ]
  },
  {
   "cell_type": "markdown",
   "id": "40e6e968",
   "metadata": {},
   "source": [
    "Set up"
   ]
  },
  {
   "cell_type": "code",
   "execution_count": 5,
   "id": "41e0e5d8",
   "metadata": {},
   "outputs": [
    {
     "data": {
      "text/html": [
       "<div>\n",
       "<style scoped>\n",
       "    .dataframe tbody tr th:only-of-type {\n",
       "        vertical-align: middle;\n",
       "    }\n",
       "\n",
       "    .dataframe tbody tr th {\n",
       "        vertical-align: top;\n",
       "    }\n",
       "\n",
       "    .dataframe thead th {\n",
       "        text-align: right;\n",
       "    }\n",
       "</style>\n",
       "<table border=\"1\" class=\"dataframe\">\n",
       "  <thead>\n",
       "    <tr style=\"text-align: right;\">\n",
       "      <th></th>\n",
       "      <th>item_condition_id</th>\n",
       "      <th>price</th>\n",
       "      <th>shipping</th>\n",
       "      <th>category_name_0</th>\n",
       "    </tr>\n",
       "  </thead>\n",
       "  <tbody>\n",
       "    <tr>\n",
       "      <th>0</th>\n",
       "      <td>3</td>\n",
       "      <td>10.0</td>\n",
       "      <td>1</td>\n",
       "      <td>Men</td>\n",
       "    </tr>\n",
       "    <tr>\n",
       "      <th>1</th>\n",
       "      <td>3</td>\n",
       "      <td>52.0</td>\n",
       "      <td>0</td>\n",
       "      <td>Electronics</td>\n",
       "    </tr>\n",
       "    <tr>\n",
       "      <th>2</th>\n",
       "      <td>1</td>\n",
       "      <td>10.0</td>\n",
       "      <td>1</td>\n",
       "      <td>Women</td>\n",
       "    </tr>\n",
       "    <tr>\n",
       "      <th>3</th>\n",
       "      <td>1</td>\n",
       "      <td>35.0</td>\n",
       "      <td>1</td>\n",
       "      <td>Home</td>\n",
       "    </tr>\n",
       "    <tr>\n",
       "      <th>4</th>\n",
       "      <td>1</td>\n",
       "      <td>44.0</td>\n",
       "      <td>0</td>\n",
       "      <td>Women</td>\n",
       "    </tr>\n",
       "  </tbody>\n",
       "</table>\n",
       "</div>"
      ],
      "text/plain": [
       "   item_condition_id  price  shipping category_name_0\n",
       "0                  3   10.0         1             Men\n",
       "1                  3   52.0         0     Electronics\n",
       "2                  1   10.0         1           Women\n",
       "3                  1   35.0         1            Home\n",
       "4                  1   44.0         0           Women"
      ]
     },
     "execution_count": 5,
     "metadata": {},
     "output_type": "execute_result"
    }
   ],
   "source": [
    "df_cl_1[features].head()"
   ]
  },
  {
   "cell_type": "markdown",
   "id": "0f90c34a",
   "metadata": {},
   "source": [
    "X, Y, Train/Test"
   ]
  },
  {
   "cell_type": "code",
   "execution_count": 6,
   "id": "c4038271",
   "metadata": {},
   "outputs": [],
   "source": [
    "X = df_cl_1[features].drop(['price'], axis = 1)\n",
    "y = df_cl_1['price'].copy()"
   ]
  },
  {
   "cell_type": "code",
   "execution_count": 7,
   "id": "0169b277",
   "metadata": {},
   "outputs": [
    {
     "data": {
      "text/plain": [
       "item_condition_id     int64\n",
       "shipping              int64\n",
       "category_name_0      object\n",
       "dtype: object"
      ]
     },
     "execution_count": 7,
     "metadata": {},
     "output_type": "execute_result"
    }
   ],
   "source": [
    "X.dtypes"
   ]
  },
  {
   "cell_type": "code",
   "execution_count": 8,
   "id": "8979e502",
   "metadata": {},
   "outputs": [],
   "source": [
    "X_train, X_test, y_train, y_test = train_test_split(X, y, test_size=0.2, random_state=random_seeds[0])"
   ]
  },
  {
   "cell_type": "markdown",
   "id": "aa376456",
   "metadata": {},
   "source": [
    "Pipeline"
   ]
  },
  {
   "cell_type": "code",
   "execution_count": 9,
   "id": "a0e2538e",
   "metadata": {},
   "outputs": [
    {
     "data": {
      "text/html": [
       "<div>\n",
       "<style scoped>\n",
       "    .dataframe tbody tr th:only-of-type {\n",
       "        vertical-align: middle;\n",
       "    }\n",
       "\n",
       "    .dataframe tbody tr th {\n",
       "        vertical-align: top;\n",
       "    }\n",
       "\n",
       "    .dataframe thead th {\n",
       "        text-align: right;\n",
       "    }\n",
       "</style>\n",
       "<table border=\"1\" class=\"dataframe\">\n",
       "  <thead>\n",
       "    <tr style=\"text-align: right;\">\n",
       "      <th></th>\n",
       "      <th>item_condition_id</th>\n",
       "      <th>shipping</th>\n",
       "      <th>category_name_0</th>\n",
       "    </tr>\n",
       "  </thead>\n",
       "  <tbody>\n",
       "    <tr>\n",
       "      <th>105549</th>\n",
       "      <td>1</td>\n",
       "      <td>1</td>\n",
       "      <td>Beauty</td>\n",
       "    </tr>\n",
       "    <tr>\n",
       "      <th>1211475</th>\n",
       "      <td>3</td>\n",
       "      <td>0</td>\n",
       "      <td>Women</td>\n",
       "    </tr>\n",
       "    <tr>\n",
       "      <th>1299985</th>\n",
       "      <td>1</td>\n",
       "      <td>0</td>\n",
       "      <td>Home</td>\n",
       "    </tr>\n",
       "    <tr>\n",
       "      <th>1239728</th>\n",
       "      <td>2</td>\n",
       "      <td>1</td>\n",
       "      <td>Women</td>\n",
       "    </tr>\n",
       "    <tr>\n",
       "      <th>609080</th>\n",
       "      <td>3</td>\n",
       "      <td>1</td>\n",
       "      <td>Beauty</td>\n",
       "    </tr>\n",
       "    <tr>\n",
       "      <th>...</th>\n",
       "      <td>...</td>\n",
       "      <td>...</td>\n",
       "      <td>...</td>\n",
       "    </tr>\n",
       "    <tr>\n",
       "      <th>403592</th>\n",
       "      <td>3</td>\n",
       "      <td>0</td>\n",
       "      <td>Kids</td>\n",
       "    </tr>\n",
       "    <tr>\n",
       "      <th>324570</th>\n",
       "      <td>2</td>\n",
       "      <td>1</td>\n",
       "      <td>Beauty</td>\n",
       "    </tr>\n",
       "    <tr>\n",
       "      <th>231557</th>\n",
       "      <td>2</td>\n",
       "      <td>1</td>\n",
       "      <td>Kids</td>\n",
       "    </tr>\n",
       "    <tr>\n",
       "      <th>780649</th>\n",
       "      <td>2</td>\n",
       "      <td>0</td>\n",
       "      <td>Women</td>\n",
       "    </tr>\n",
       "    <tr>\n",
       "      <th>1198065</th>\n",
       "      <td>1</td>\n",
       "      <td>1</td>\n",
       "      <td>Kids</td>\n",
       "    </tr>\n",
       "  </tbody>\n",
       "</table>\n",
       "<p>1186028 rows × 3 columns</p>\n",
       "</div>"
      ],
      "text/plain": [
       "         item_condition_id  shipping category_name_0\n",
       "105549                   1         1          Beauty\n",
       "1211475                  3         0           Women\n",
       "1299985                  1         0            Home\n",
       "1239728                  2         1           Women\n",
       "609080                   3         1          Beauty\n",
       "...                    ...       ...             ...\n",
       "403592                   3         0            Kids\n",
       "324570                   2         1          Beauty\n",
       "231557                   2         1            Kids\n",
       "780649                   2         0           Women\n",
       "1198065                  1         1            Kids\n",
       "\n",
       "[1186028 rows x 3 columns]"
      ]
     },
     "execution_count": 9,
     "metadata": {},
     "output_type": "execute_result"
    }
   ],
   "source": [
    "column_transformer = ColumnTransformer([('one_hot_encoder', \n",
    "                                         OneHotEncoder(drop='first', \n",
    "                                                       sparse=False, \n",
    "                                                       handle_unknown='ignore'),\n",
    "                                         make_column_selector(dtype_include=object)\n",
    "                                        )], \n",
    "                                       remainder='passthrough')\n",
    "\n",
    "X_train"
   ]
  },
  {
   "cell_type": "markdown",
   "id": "d5b5b356",
   "metadata": {},
   "source": [
    "<center><h3>Modeling"
   ]
  },
  {
   "cell_type": "code",
   "execution_count": 21,
   "id": "19b55ba3",
   "metadata": {},
   "outputs": [],
   "source": [
    "scoring = ['r2', 'neg_mean_squared_error', 'neg_mean_squared_log_error']"
   ]
  },
  {
   "cell_type": "markdown",
   "id": "329a5040",
   "metadata": {},
   "source": [
    "Linear Regression"
   ]
  },
  {
   "cell_type": "code",
   "execution_count": 31,
   "id": "a88b973e",
   "metadata": {},
   "outputs": [],
   "source": [
    "lr_pipeline = Pipeline([\n",
    "    ('Column_transformer', column_transformer),\n",
    "    # ('Scaler' , StandardScaler()),\n",
    "    ('Linear_Regression', LinearRegression(fit_intercept=True, normalize='deprecated',\n",
    "                                          copy_X=True, n_jobs=None, positive=False))\n",
    "])"
   ]
  },
  {
   "cell_type": "code",
   "execution_count": 32,
   "id": "73ac7fc6",
   "metadata": {},
   "outputs": [
    {
     "name": "stdout",
     "output_type": "stream",
     "text": [
      "Fitting 5 folds for each of 1 candidates, totalling 5 fits\n"
     ]
    }
   ],
   "source": [
    "# Grid searches dummy_pipeline\n",
    "\n",
    "lr_pipeline_params = [dict()]\n",
    "\n",
    "    \n",
    "lr_pipeline_gs = GridSearchCV(\n",
    "                               lr_pipeline, \n",
    "                               lr_pipeline_params, \n",
    "                               cv=5, \n",
    "                               scoring=scoring,\n",
    "                               return_train_score=False,\n",
    "                               verbose=5,\n",
    "                               n_jobs = -1,\n",
    "                               refit = 'neg_mean_squared_log_error')\n",
    "\n",
    "lr_pipeline_gs.fit(X_train, y_train);"
   ]
  },
  {
   "cell_type": "code",
   "execution_count": 33,
   "id": "f212e710",
   "metadata": {},
   "outputs": [
    {
     "data": {
      "text/plain": [
       "-0.6233011323041775"
      ]
     },
     "execution_count": 33,
     "metadata": {},
     "output_type": "execute_result"
    }
   ],
   "source": [
    "lr_pipeline_gs.best_score_"
   ]
  },
  {
   "cell_type": "code",
   "execution_count": 34,
   "id": "4add11a4",
   "metadata": {},
   "outputs": [
    {
     "data": {
      "text/plain": [
       "array([-1453.74755385])"
      ]
     },
     "execution_count": 34,
     "metadata": {},
     "output_type": "execute_result"
    },
    {
     "data": {
      "text/plain": [
       "array([0.02732525])"
      ]
     },
     "execution_count": 34,
     "metadata": {},
     "output_type": "execute_result"
    }
   ],
   "source": [
    "lr_pipeline_gs.cv_results_['mean_test_neg_mean_squared_error']\n",
    "lr_pipeline_gs.cv_results_['mean_test_r2']"
   ]
  },
  {
   "cell_type": "markdown",
   "id": "7243c793",
   "metadata": {},
   "source": [
    "Ideas"
   ]
  },
  {
   "cell_type": "code",
   "execution_count": 14,
   "id": "5e622048",
   "metadata": {},
   "outputs": [],
   "source": [
    "# Price outliers => stratified sampling ?\n",
    "# Brand name target encoding"
   ]
  }
 ],
 "metadata": {
  "kernelspec": {
   "display_name": "Python 3 (ipykernel)",
   "language": "python",
   "name": "python3"
  },
  "language_info": {
   "codemirror_mode": {
    "name": "ipython",
    "version": 3
   },
   "file_extension": ".py",
   "mimetype": "text/x-python",
   "name": "python",
   "nbconvert_exporter": "python",
   "pygments_lexer": "ipython3",
   "version": "3.9.12"
  }
 },
 "nbformat": 4,
 "nbformat_minor": 5
}
